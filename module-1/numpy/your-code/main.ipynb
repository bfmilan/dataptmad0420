{
 "cells": [
  {
   "cell_type": "markdown",
   "metadata": {},
   "source": [
    "# Introduction to NumPy\n",
    "\n",
    "\n",
    "#### 1. Import NumPy under the name np."
   ]
  },
  {
   "cell_type": "code",
   "execution_count": 3,
   "metadata": {},
   "outputs": [],
   "source": [
    "# your code here\n",
    "import numpy as np"
   ]
  },
  {
   "cell_type": "markdown",
   "metadata": {},
   "source": [
    "#### 2. Print your NumPy version."
   ]
  },
  {
   "cell_type": "code",
   "execution_count": 5,
   "metadata": {},
   "outputs": [
    {
     "data": {
      "text/plain": [
       "'1.18.4'"
      ]
     },
     "execution_count": 5,
     "metadata": {},
     "output_type": "execute_result"
    }
   ],
   "source": [
    "# your code here\n",
    "np.version.version"
   ]
  },
  {
   "cell_type": "markdown",
   "metadata": {},
   "source": [
    "#### 3. Generate a 2x3x5 3-dimensional array with random values. Assign the array to variable *a*.\n",
    "**Challenge**: there are at least three easy ways that use numpy to generate random arrays. How many ways can you find?"
   ]
  },
  {
   "cell_type": "code",
   "execution_count": 11,
   "metadata": {},
   "outputs": [
    {
     "data": {
      "text/plain": [
       "array([[[0.99859869, 0.92745813, 0.73869105, 0.37038091, 0.38839193],\n",
       "        [0.83981073, 0.41937794, 0.80063593, 0.15248663, 0.00542012],\n",
       "        [0.63864128, 0.87830444, 0.71845548, 0.92431133, 0.72199218]],\n",
       "\n",
       "       [[0.14308844, 0.44846574, 0.43177867, 0.33782542, 0.40310598],\n",
       "        [0.69155368, 0.0489409 , 0.99210527, 0.03063949, 0.63810522],\n",
       "        [0.54503663, 0.63053936, 0.37565485, 0.10158482, 0.6775649 ]]])"
      ]
     },
     "execution_count": 11,
     "metadata": {},
     "output_type": "execute_result"
    }
   ],
   "source": [
    "# Method 1\n",
    "# 2 grupos, 3 filas, 5 columnas\n",
    "a = np.random.random((2,3,5))\n",
    "a"
   ]
  },
  {
   "cell_type": "code",
   "execution_count": 16,
   "metadata": {},
   "outputs": [
    {
     "data": {
      "text/plain": [
       "array([[[0.83508814, 0.47548745, 0.18543945, 0.56687747, 0.62388485],\n",
       "        [0.15921054, 0.74633075, 0.05880851, 0.68660116, 0.69278125],\n",
       "        [0.07425031, 0.43359373, 0.08799751, 0.33296361, 0.30379391]],\n",
       "\n",
       "       [[0.76400352, 0.13934424, 0.38067215, 0.83929363, 0.81888597],\n",
       "        [0.49960193, 0.71175717, 0.32924569, 0.29098428, 0.5254125 ],\n",
       "        [0.98034589, 0.57433168, 0.65488693, 0.08757405, 0.80535445]]])"
      ]
     },
     "execution_count": 16,
     "metadata": {},
     "output_type": "execute_result"
    }
   ],
   "source": [
    "# Method 2\n",
    "a = np.array(np.random.random((2,3,5)))\n",
    "a"
   ]
  },
  {
   "cell_type": "code",
   "execution_count": 20,
   "metadata": {},
   "outputs": [
    {
     "data": {
      "text/plain": [
       "array([[[9.81894317, 5.99499926, 1.34475681, 9.96752174, 8.89486034],\n",
       "        [7.71993989, 7.90235561, 2.45485732, 7.11279697, 5.34192367],\n",
       "        [6.72262826, 5.84774456, 2.83752343, 1.23393318, 9.16866163]],\n",
       "\n",
       "       [[4.11045899, 1.07838798, 8.03101133, 1.49301913, 1.16858896],\n",
       "        [8.95476371, 2.64308148, 1.64689369, 7.31521926, 1.07941222],\n",
       "        [4.67322231, 8.9962894 , 9.80216563, 3.73184996, 3.87128318]]])"
      ]
     },
     "execution_count": 20,
     "metadata": {},
     "output_type": "execute_result"
    }
   ],
   "source": [
    "# Method 3\n",
    "a = np.random.uniform(low=1, high=10, size=(2,3,5))\n",
    "a"
   ]
  },
  {
   "cell_type": "markdown",
   "metadata": {},
   "source": [
    "#### 4. Print *a*.\n"
   ]
  },
  {
   "cell_type": "code",
   "execution_count": 36,
   "metadata": {},
   "outputs": [
    {
     "name": "stdout",
     "output_type": "stream",
     "text": [
      "[[[9.81894317 5.99499926 1.34475681 9.96752174 8.89486034]\n",
      "  [7.71993989 7.90235561 2.45485732 7.11279697 5.34192367]\n",
      "  [6.72262826 5.84774456 2.83752343 1.23393318 9.16866163]]\n",
      "\n",
      " [[4.11045899 1.07838798 8.03101133 1.49301913 1.16858896]\n",
      "  [8.95476371 2.64308148 1.64689369 7.31521926 1.07941222]\n",
      "  [4.67322231 8.9962894  9.80216563 3.73184996 3.87128318]]]\n",
      "(2, 3, 5)\n"
     ]
    }
   ],
   "source": [
    "# your code here\n",
    "print(a)\n",
    "print(a.shape)"
   ]
  },
  {
   "cell_type": "markdown",
   "metadata": {},
   "source": [
    "#### 5. Create a 5x2x3 3-dimensional array with all values equaling 1. Assign the array to variable *b*."
   ]
  },
  {
   "cell_type": "code",
   "execution_count": 35,
   "metadata": {},
   "outputs": [
    {
     "name": "stdout",
     "output_type": "stream",
     "text": [
      "[[[1. 1. 1.]\n",
      "  [1. 1. 1.]]\n",
      "\n",
      " [[1. 1. 1.]\n",
      "  [1. 1. 1.]]\n",
      "\n",
      " [[1. 1. 1.]\n",
      "  [1. 1. 1.]]\n",
      "\n",
      " [[1. 1. 1.]\n",
      "  [1. 1. 1.]]\n",
      "\n",
      " [[1. 1. 1.]\n",
      "  [1. 1. 1.]]]\n"
     ]
    },
    {
     "data": {
      "text/plain": [
       "(5, 2, 3)"
      ]
     },
     "execution_count": 35,
     "metadata": {},
     "output_type": "execute_result"
    }
   ],
   "source": [
    "# your code here\n",
    "b = np.ones((5,2,3))\n",
    "print(b)\n",
    "b.shape"
   ]
  },
  {
   "cell_type": "markdown",
   "metadata": {},
   "source": [
    "#### 6. Print *b*.\n"
   ]
  },
  {
   "cell_type": "code",
   "execution_count": 24,
   "metadata": {},
   "outputs": [
    {
     "name": "stdout",
     "output_type": "stream",
     "text": [
      "[[[1. 1. 1.]\n",
      "  [1. 1. 1.]]\n",
      "\n",
      " [[1. 1. 1.]\n",
      "  [1. 1. 1.]]\n",
      "\n",
      " [[1. 1. 1.]\n",
      "  [1. 1. 1.]]\n",
      "\n",
      " [[1. 1. 1.]\n",
      "  [1. 1. 1.]]\n",
      "\n",
      " [[1. 1. 1.]\n",
      "  [1. 1. 1.]]]\n"
     ]
    }
   ],
   "source": [
    "# your code here\n",
    "print(b)"
   ]
  },
  {
   "cell_type": "markdown",
   "metadata": {},
   "source": [
    "#### 7. Do *a* and *b* have the same size? How do you prove that in Python code?"
   ]
  },
  {
   "cell_type": "code",
   "execution_count": 26,
   "metadata": {},
   "outputs": [
    {
     "data": {
      "text/plain": [
       "True"
      ]
     },
     "execution_count": 26,
     "metadata": {},
     "output_type": "execute_result"
    }
   ],
   "source": [
    "# your code here\n",
    "# for shape \n",
    "# a.shape == b.shape\n",
    "# for size\n",
    "a.size == b.size\n",
    "# Outcome 'True' so no, they have same size. "
   ]
  },
  {
   "cell_type": "markdown",
   "metadata": {},
   "source": [
    "#### 8. Are you able to add *a* and *b*? Why or why not?\n"
   ]
  },
  {
   "cell_type": "code",
   "execution_count": 32,
   "metadata": {},
   "outputs": [
    {
     "name": "stdout",
     "output_type": "stream",
     "text": [
      "(2, 3, 5)\n",
      "\n",
      "(5, 2, 3)\n"
     ]
    },
    {
     "ename": "ValueError",
     "evalue": "operands could not be broadcast together with shapes (2,3,5) (5,2,3) ",
     "output_type": "error",
     "traceback": [
      "\u001b[0;31m---------------------------------------------------------------------------\u001b[0m",
      "\u001b[0;31mValueError\u001b[0m                                Traceback (most recent call last)",
      "\u001b[0;32m<ipython-input-32-6e07a5f1ebfe>\u001b[0m in \u001b[0;36m<module>\u001b[0;34m\u001b[0m\n\u001b[1;32m      4\u001b[0m \u001b[0mprint\u001b[0m\u001b[0;34m(\u001b[0m\u001b[0;34m)\u001b[0m\u001b[0;34m\u001b[0m\u001b[0;34m\u001b[0m\u001b[0m\n\u001b[1;32m      5\u001b[0m \u001b[0mprint\u001b[0m\u001b[0;34m(\u001b[0m\u001b[0mb\u001b[0m\u001b[0;34m.\u001b[0m\u001b[0mshape\u001b[0m\u001b[0;34m)\u001b[0m\u001b[0;34m\u001b[0m\u001b[0;34m\u001b[0m\u001b[0m\n\u001b[0;32m----> 6\u001b[0;31m \u001b[0mc\u001b[0m \u001b[0;34m=\u001b[0m \u001b[0ma\u001b[0m \u001b[0;34m+\u001b[0m \u001b[0mb\u001b[0m\u001b[0;34m\u001b[0m\u001b[0;34m\u001b[0m\u001b[0m\n\u001b[0m\u001b[1;32m      7\u001b[0m \u001b[0;31m# Error: operands could not be broadcast together with shapes (2,3,5) (5,2,3)\u001b[0m\u001b[0;34m\u001b[0m\u001b[0;34m\u001b[0m\u001b[0;34m\u001b[0m\u001b[0m\n",
      "\u001b[0;31mValueError\u001b[0m: operands could not be broadcast together with shapes (2,3,5) (5,2,3) "
     ]
    }
   ],
   "source": [
    "# your answer here\n",
    "# I cant because they dont have the same shape - \n",
    "print(a.shape)\n",
    "print()\n",
    "print(b.shape)\n",
    "c = a + b \n",
    "# Error: operands could not be broadcast together with shapes (2,3,5) (5,2,3) "
   ]
  },
  {
   "cell_type": "markdown",
   "metadata": {},
   "source": [
    "#### 9. Transpose *b* so that it has the same structure of *a* (i.e. become a 2x3x5 array). Assign the transposed array to variable *c*."
   ]
  },
  {
   "cell_type": "code",
   "execution_count": 37,
   "metadata": {},
   "outputs": [
    {
     "data": {
      "text/plain": [
       "(2, 3, 5)"
      ]
     },
     "execution_count": 37,
     "metadata": {},
     "output_type": "execute_result"
    }
   ],
   "source": [
    "# your code here\n",
    "c = b.reshape(2,3,5)\n",
    "c.shape"
   ]
  },
  {
   "cell_type": "markdown",
   "metadata": {},
   "source": [
    "#### 10. Try to add *a* and *c*. Now it should work. Assign the sum to variable *d*. But why does it work now?"
   ]
  },
  {
   "cell_type": "code",
   "execution_count": 42,
   "metadata": {},
   "outputs": [
    {
     "name": "stdout",
     "output_type": "stream",
     "text": [
      "(2, 3, 5)\n",
      "True\n"
     ]
    }
   ],
   "source": [
    "# your code/answer here\n",
    "d = a + c\n",
    "print(d.shape)\n",
    "# works cause the have same shape\n",
    "print(a.shape == c.shape)"
   ]
  },
  {
   "cell_type": "markdown",
   "metadata": {},
   "source": [
    "#### 11. Print *a* and *d*. Notice the difference and relation of the two array in terms of the values? Explain."
   ]
  },
  {
   "cell_type": "code",
   "execution_count": 40,
   "metadata": {},
   "outputs": [
    {
     "name": "stdout",
     "output_type": "stream",
     "text": [
      "[[[9.81894317 5.99499926 1.34475681 9.96752174 8.89486034]\n",
      "  [7.71993989 7.90235561 2.45485732 7.11279697 5.34192367]\n",
      "  [6.72262826 5.84774456 2.83752343 1.23393318 9.16866163]]\n",
      "\n",
      " [[4.11045899 1.07838798 8.03101133 1.49301913 1.16858896]\n",
      "  [8.95476371 2.64308148 1.64689369 7.31521926 1.07941222]\n",
      "  [4.67322231 8.9962894  9.80216563 3.73184996 3.87128318]]]\n",
      "\n",
      "[[[10.81894317  6.99499926  2.34475681 10.96752174  9.89486034]\n",
      "  [ 8.71993989  8.90235561  3.45485732  8.11279697  6.34192367]\n",
      "  [ 7.72262826  6.84774456  3.83752343  2.23393318 10.16866163]]\n",
      "\n",
      " [[ 5.11045899  2.07838798  9.03101133  2.49301913  2.16858896]\n",
      "  [ 9.95476371  3.64308148  2.64689369  8.31521926  2.07941222]\n",
      "  [ 5.67322231  9.9962894  10.80216563  4.73184996  4.87128318]]]\n"
     ]
    }
   ],
   "source": [
    "# your code/answer here\n",
    "print(a)\n",
    "print()\n",
    "print(d)\n",
    "# in d we have added 1 (from b array, transposed to c) to all a array elements "
   ]
  },
  {
   "cell_type": "markdown",
   "metadata": {},
   "source": [
    "#### 12. Multiply *a* and *c*. Assign the result to *e*."
   ]
  },
  {
   "cell_type": "code",
   "execution_count": 44,
   "metadata": {},
   "outputs": [
    {
     "data": {
      "text/plain": [
       "array([[[9.81894317, 5.99499926, 1.34475681, 9.96752174, 8.89486034],\n",
       "        [7.71993989, 7.90235561, 2.45485732, 7.11279697, 5.34192367],\n",
       "        [6.72262826, 5.84774456, 2.83752343, 1.23393318, 9.16866163]],\n",
       "\n",
       "       [[4.11045899, 1.07838798, 8.03101133, 1.49301913, 1.16858896],\n",
       "        [8.95476371, 2.64308148, 1.64689369, 7.31521926, 1.07941222],\n",
       "        [4.67322231, 8.9962894 , 9.80216563, 3.73184996, 3.87128318]]])"
      ]
     },
     "execution_count": 44,
     "metadata": {},
     "output_type": "execute_result"
    }
   ],
   "source": [
    "# your code here\n",
    "e = a*c\n",
    "e"
   ]
  },
  {
   "cell_type": "markdown",
   "metadata": {},
   "source": [
    "#### 13. Does *e* equal to *a*? Why or why not?\n"
   ]
  },
  {
   "cell_type": "code",
   "execution_count": 49,
   "metadata": {},
   "outputs": [
    {
     "name": "stdout",
     "output_type": "stream",
     "text": [
      "[[[ True  True  True  True  True]\n",
      "  [ True  True  True  True  True]\n",
      "  [ True  True  True  True  True]]\n",
      "\n",
      " [[ True  True  True  True  True]\n",
      "  [ True  True  True  True  True]\n",
      "  [ True  True  True  True  True]]]\n",
      "\n",
      "[[[9.81894317 5.99499926 1.34475681 9.96752174 8.89486034]\n",
      "  [7.71993989 7.90235561 2.45485732 7.11279697 5.34192367]\n",
      "  [6.72262826 5.84774456 2.83752343 1.23393318 9.16866163]]\n",
      "\n",
      " [[4.11045899 1.07838798 8.03101133 1.49301913 1.16858896]\n",
      "  [8.95476371 2.64308148 1.64689369 7.31521926 1.07941222]\n",
      "  [4.67322231 8.9962894  9.80216563 3.73184996 3.87128318]]]\n",
      "\n",
      "[[[9.81894317 5.99499926 1.34475681 9.96752174 8.89486034]\n",
      "  [7.71993989 7.90235561 2.45485732 7.11279697 5.34192367]\n",
      "  [6.72262826 5.84774456 2.83752343 1.23393318 9.16866163]]\n",
      "\n",
      " [[4.11045899 1.07838798 8.03101133 1.49301913 1.16858896]\n",
      "  [8.95476371 2.64308148 1.64689369 7.31521926 1.07941222]\n",
      "  [4.67322231 8.9962894  9.80216563 3.73184996 3.87128318]]]\n"
     ]
    }
   ],
   "source": [
    "# your code/answer here\n",
    "print(e == a)\n",
    "print()\n",
    "print(e)\n",
    "print()\n",
    "print(a)\n",
    "# yes it does as c array elements are all 1, so the a array elements\n",
    "# are all multipled by one, so stay same. "
   ]
  },
  {
   "cell_type": "markdown",
   "metadata": {},
   "source": [
    "#### 14. Identify the max, min, and mean values in *d*. Assign those values to variables *d_max*, *d_min* and *d_mean*."
   ]
  },
  {
   "cell_type": "code",
   "execution_count": 52,
   "metadata": {},
   "outputs": [
    {
     "name": "stdout",
     "output_type": "stream",
     "text": [
      "10.96752174090386 2.0783879800175225 6.365303102504345\n"
     ]
    }
   ],
   "source": [
    "# your code here\n",
    "# max\n",
    "d_max = np.max(d)\n",
    "\n",
    "# min\n",
    "d_min = np.min(d)\n",
    "\n",
    "# mean\n",
    "d_mean = np.mean(d)\n",
    "\n",
    "print(d_max,d_min,d_mean)"
   ]
  },
  {
   "cell_type": "markdown",
   "metadata": {},
   "source": [
    "#### 15. Now we want to label the values in *d*. First create an empty array *f* with the same shape (i.e. 2x3x5) as *d* using `np.empty`.\n"
   ]
  },
  {
   "cell_type": "code",
   "execution_count": 55,
   "metadata": {},
   "outputs": [
    {
     "data": {
      "text/plain": [
       "array([[[9.81894317, 5.99499926, 1.34475681, 9.96752174, 8.89486034],\n",
       "        [7.71993989, 7.90235561, 2.45485732, 7.11279697, 5.34192367],\n",
       "        [6.72262826, 5.84774456, 2.83752343, 1.23393318, 9.16866163]],\n",
       "\n",
       "       [[4.11045899, 1.07838798, 8.03101133, 1.49301913, 1.16858896],\n",
       "        [8.95476371, 2.64308148, 1.64689369, 7.31521926, 1.07941222],\n",
       "        [4.67322231, 8.9962894 , 9.80216563, 3.73184996, 3.87128318]]])"
      ]
     },
     "execution_count": 55,
     "metadata": {},
     "output_type": "execute_result"
    }
   ],
   "source": [
    "# your code here\n",
    "f = np.empty([2,3,5])\n",
    "f"
   ]
  },
  {
   "cell_type": "markdown",
   "metadata": {},
   "source": [
    "#### 16. Populate the values in *f*. \n",
    "\n",
    "For each value in *d*, if it's larger than *d_min* but smaller than *d_mean*, assign 25 to the corresponding value in *f*. If a value in *d* is larger than *d_mean* but smaller than *d_max*, assign 75 to the corresponding value in *f*. If a value equals to *d_mean*, assign 50 to the corresponding value in *f*. Assign 0 to the corresponding value(s) in *f* for *d_min* in *d*. Assign 100 to the corresponding value(s) in *f* for *d_max* in *d*. In the end, f should have only the following values: 0, 25, 50, 75, and 100.\n",
    "\n",
    "**Note**: you don't have to use Numpy in this question."
   ]
  },
  {
   "cell_type": "code",
   "execution_count": 58,
   "metadata": {},
   "outputs": [
    {
     "name": "stdout",
     "output_type": "stream",
     "text": [
      "[[[10.81894317  6.99499926  2.34475681 10.96752174  9.89486034]\n",
      "  [ 8.71993989  8.90235561  3.45485732  8.11279697  6.34192367]\n",
      "  [ 7.72262826  6.84774456  3.83752343  2.23393318 10.16866163]]\n",
      "\n",
      " [[ 5.11045899  2.07838798  9.03101133  2.49301913  2.16858896]\n",
      "  [ 9.95476371  3.64308148  2.64689369  8.31521926  2.07941222]\n",
      "  [ 5.67322231  9.9962894  10.80216563  4.73184996  4.87128318]]]\n"
     ]
    }
   ],
   "source": [
    "# your code here\n",
    "print(d)\n",
    "\n",
    "for x in range(len(d)):\n",
    "    j = 0\n",
    "    for y in d[x]:\n",
    "        k=0\n",
    "        for item in d[x][j]:\n",
    "            if item > d_min and item < d_mean:\n",
    "                f[x][j][k] = 25\n",
    "            elif item > d_mean and item < d_max:\n",
    "                f[x][j][k] = 75\n",
    "            elif item == d_mean:\n",
    "                f[x][j][k] = 0\n",
    "            elif item == d_max:\n",
    "                f[x][j][k] = 100\n",
    "            k+=1    \n",
    "        j+=1"
   ]
  },
  {
   "cell_type": "markdown",
   "metadata": {},
   "source": [
    "#### 17. Print *d* and *f*. Do you have your expected *f*?\n",
    "For instance, if your *d* is:\n",
    "```python\n",
    "[[[1.85836099, 1.67064465, 1.62576044, 1.40243961, 1.88454931],\n",
    "[1.75354326, 1.69403643, 1.36729252, 1.61415071, 1.12104981],\n",
    "[1.72201435, 1.1862918 , 1.87078449, 1.7726778 , 1.88180042]],\n",
    "[[1.44747908, 1.31673383, 1.02000951, 1.52218947, 1.97066381],\n",
    "[1.79129243, 1.74983003, 1.96028037, 1.85166831, 1.65450881],\n",
    "[1.18068344, 1.9587381 , 1.00656599, 1.93402165, 1.73514584]]]\n",
    "```\n",
    "Your *f* should be:\n",
    "```python\n",
    "[[[ 75.,  75.,  75.,  25.,  75.],\n",
    "[ 75.,  75.,  25.,  25.,  25.],\n",
    "[ 75.,  25.,  75.,  75.,  75.]],\n",
    "[[ 25.,  25.,  25.,  25., 100.],\n",
    "[ 75.,  75.,  75.,  75.,  75.],\n",
    "[ 25.,  75.,   0.,  75.,  75.]]]\n",
    "```"
   ]
  },
  {
   "cell_type": "code",
   "execution_count": 59,
   "metadata": {},
   "outputs": [
    {
     "name": "stdout",
     "output_type": "stream",
     "text": [
      "[[[10.81894317  6.99499926  2.34475681 10.96752174  9.89486034]\n",
      "  [ 8.71993989  8.90235561  3.45485732  8.11279697  6.34192367]\n",
      "  [ 7.72262826  6.84774456  3.83752343  2.23393318 10.16866163]]\n",
      "\n",
      " [[ 5.11045899  2.07838798  9.03101133  2.49301913  2.16858896]\n",
      "  [ 9.95476371  3.64308148  2.64689369  8.31521926  2.07941222]\n",
      "  [ 5.67322231  9.9962894  10.80216563  4.73184996  4.87128318]]]\n",
      "[[[ 75.          75.          25.         100.          75.        ]\n",
      "  [ 75.          75.          25.          75.          25.        ]\n",
      "  [ 75.          75.          25.          25.          75.        ]]\n",
      "\n",
      " [[ 25.           1.07838798  75.          25.          25.        ]\n",
      "  [ 75.          25.          25.          75.          25.        ]\n",
      "  [ 25.          75.          75.          25.          25.        ]]]\n"
     ]
    }
   ],
   "source": [
    "# your code here\n",
    "print(d)\n",
    "print(f)"
   ]
  },
  {
   "cell_type": "markdown",
   "metadata": {},
   "source": [
    "#### 18. Bonus question: instead of using numbers (i.e. 0, 25, 50, 75, and 100), use string values  (\"A\", \"B\", \"C\", \"D\", and \"E\") to label the array elements. For the example above, the expected result is:\n",
    "\n",
    "```python\n",
    "[[[ 'D',  'D',  'D',  'B',  'D'],\n",
    "[ 'D',  'D',  'B',  'B',  'B'],\n",
    "[ 'D',  'B',  'D',  'D',  'D']],\n",
    "[[ 'B',  'B',  'B',  'B',  'E'],\n",
    "[ 'D',  'D',  'D',  'D',  'D'],\n",
    "[ 'B',  'D',   'A',  'D', 'D']]]\n",
    "```\n",
    "**Note**: you don't have to use Numpy in this question."
   ]
  },
  {
   "cell_type": "code",
   "execution_count": null,
   "metadata": {},
   "outputs": [],
   "source": [
    "# your code here"
   ]
  }
 ],
 "metadata": {
  "kernelspec": {
   "display_name": "Python [conda env:ironhack]",
   "language": "python",
   "name": "conda-env-ironhack-py"
  },
  "language_info": {
   "codemirror_mode": {
    "name": "ipython",
    "version": 3
   },
   "file_extension": ".py",
   "mimetype": "text/x-python",
   "name": "python",
   "nbconvert_exporter": "python",
   "pygments_lexer": "ipython3",
   "version": "3.7.7"
  }
 },
 "nbformat": 4,
 "nbformat_minor": 4
}
