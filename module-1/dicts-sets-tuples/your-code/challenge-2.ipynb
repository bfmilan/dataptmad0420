{
 "cells": [
  {
   "cell_type": "markdown",
   "metadata": {},
   "source": [
    "## Challenge 2: Sets\n",
    "\n",
    "There are a lot to learn about Python Sets and the information presented in the lesson is limited due to its length. To learn Python Sets in depth you are strongly encouraged to review the W3Schools tutorial on [Python Sets Examples and Methods](https://www.w3schools.com/python/python_sets.asp) before you work on this lab. Some difficult questions in this lab have their solutions in the W3Schools tutorial.\n",
    "\n",
    "#### First, import the Python `random` library."
   ]
  },
  {
   "cell_type": "code",
   "execution_count": 59,
   "metadata": {},
   "outputs": [],
   "source": [
    "import random"
   ]
  },
  {
   "cell_type": "markdown",
   "metadata": {},
   "source": [
    "#### In the cell below, create a list named `sample_list_1` with 80 random values. \n",
    "\n",
    "Requirements:\n",
    "\n",
    "* Each value is an integer falling between 0 and 100.\n",
    "* Each value in the list is unique.\n",
    "\n",
    "Print `sample_list_1` to review its values\n",
    "\n",
    "*Hint: use `random.sample` ([reference](https://docs.python.org/3/library/random.html#random.sample)).*"
   ]
  },
  {
   "cell_type": "code",
   "execution_count": 60,
   "metadata": {},
   "outputs": [
    {
     "name": "stdout",
     "output_type": "stream",
     "text": [
      "[100, 62, 55, 77, 31, 50, 1, 76, 14, 73, 61, 6, 81, 26, 44, 24, 70, 8, 86, 65, 36, 0, 51, 41, 9, 40, 75, 64, 96, 57, 90, 42, 35, 12, 10, 27, 11, 87, 17, 19, 78, 15, 18, 91, 53, 82, 88, 59, 46, 92, 32, 29, 7, 16, 13, 33, 72, 63, 74, 60, 97, 20, 23, 3, 84, 99, 68, 34, 4, 83, 5, 47, 49, 25, 67, 2, 28, 79, 66, 69]\n"
     ]
    },
    {
     "data": {
      "text/plain": [
       "True"
      ]
     },
     "execution_count": 60,
     "metadata": {},
     "output_type": "execute_result"
    }
   ],
   "source": [
    "# Your code here\n",
    "# ?random\n",
    "# random.sample(population, k)\n",
    "sample_list_1 = random.sample(range(0,101),80)\n",
    "print(sample_list_1)\n",
    "# check if all values unique (output 'True')\n",
    "len(set(sample_list_1)) == len(sample_list_1)"
   ]
  },
  {
   "cell_type": "markdown",
   "metadata": {},
   "source": [
    "#### Convert `sample_list_1` to a set called `set1`. Print the length of the set. Is its length still 80?"
   ]
  },
  {
   "cell_type": "code",
   "execution_count": 62,
   "metadata": {},
   "outputs": [
    {
     "name": "stdout",
     "output_type": "stream",
     "text": [
      "{0, 1, 2, 3, 4, 5, 6, 7, 8, 9, 10, 11, 12, 13, 14, 15, 16, 17, 18, 19, 20, 23, 24, 25, 26, 27, 28, 29, 31, 32, 33, 34, 35, 36, 40, 41, 42, 44, 46, 47, 49, 50, 51, 53, 55, 57, 59, 60, 61, 62, 63, 64, 65, 66, 67, 68, 69, 70, 72, 73, 74, 75, 76, 77, 78, 79, 81, 82, 83, 84, 86, 87, 88, 90, 91, 92, 96, 97, 99, 100}\n",
      "The lenght of set_1 is 80, the same as sample_list_1 \n"
     ]
    }
   ],
   "source": [
    "# Your code here\n",
    "set1 = set(sample_list_1)\n",
    "print(set1)\n",
    "len_set1 = len(set1)\n",
    "print(\"The lenght of set_1 is {}, the same as sample_list_1 \".format(len_set1))"
   ]
  },
  {
   "cell_type": "markdown",
   "metadata": {},
   "source": [
    "#### Create another list named `sample_list_2` with 80 random values.\n",
    "\n",
    "Requirements:\n",
    "\n",
    "* Each value is an integer falling between 0 and 100.\n",
    "* The values in the list don't have to be unique.\n",
    "\n",
    "*Hint: Use a FOR loop.*"
   ]
  },
  {
   "cell_type": "code",
   "execution_count": 35,
   "metadata": {},
   "outputs": [
    {
     "name": "stdout",
     "output_type": "stream",
     "text": [
      "[44, 87, 27, 25, 71, 60, 84, 87, 17, 24, 57, 28, 25, 86, 30, 19, 64, 98, 63, 42, 21, 47, 82, 24, 20, 79, 32, 39, 34, 74, 70, 11, 58, 27, 25, 79, 97, 27, 88, 47, 49, 26, 55, 38, 66, 50, 33, 94, 82, 79, 10, 78, 74, 41, 65, 45, 57, 13, 27, 12, 4, 75, 83, 97, 16, 58, 4, 73, 11, 22, 8, 15, 33, 50, 96, 53, 64, 61, 42, 28]\n"
     ]
    },
    {
     "data": {
      "text/plain": [
       "False"
      ]
     },
     "execution_count": 35,
     "metadata": {},
     "output_type": "execute_result"
    }
   ],
   "source": [
    "# Your code here\n",
    "sample_list_2 = []\n",
    "for i in range(80): sample_list_2.append(random.randint(0, 101))\n",
    "print(sample_list_2)\n",
    "\n",
    "# random.randint(a, b) \n",
    "# Return a random integer N such that a <= N <= b. Alias for randrange(a, b+1).\n",
    "# random.sample(range(1,101),1) will return a singleton list containing an integer, \n",
    "# whereas random.randint(1,100) \n",
    "# will directly return the integer itself. Note that random.randint is an inclusive bound \n",
    "# (i.e. it can return either of the endpoints)\n",
    "# You could also use random.choice(range(1, 101)) to get the integer. \n",
    "# In any case, I'd assume that randint is the fastest option.\n",
    "\n",
    "# check lenght \n",
    "len(sample_list_2)\n",
    "\n",
    "# check values not unique (output 'False')\n",
    "len(set(sample_list_2)) == len(sample_list_2)\n",
    "\n",
    "'''\n",
    "# this is to make same loop but with unique values\n",
    "my_random = random.sample(range(0,100),80)\n",
    "sample_list_2 = []\n",
    "for x in my_random:\n",
    "    if x not in sample_list_2:\n",
    "        sample_list_2.append(x)\n",
    "print(sample_list_2)\n",
    "'''"
   ]
  },
  {
   "cell_type": "markdown",
   "metadata": {},
   "source": [
    "#### Convert `sample_list_2` to a set called `set2`. Print the length of the set. Is its length still 80?"
   ]
  },
  {
   "cell_type": "code",
   "execution_count": 63,
   "metadata": {},
   "outputs": [
    {
     "name": "stdout",
     "output_type": "stream",
     "text": [
      "{4, 8, 10, 11, 12, 13, 15, 16, 17, 19, 20, 21, 22, 24, 25, 26, 27, 28, 30, 32, 33, 34, 38, 39, 41, 42, 44, 45, 47, 49, 50, 53, 55, 57, 58, 60, 61, 63, 64, 65, 66, 70, 71, 73, 74, 75, 78, 79, 82, 83, 84, 86, 87, 88, 94, 96, 97, 98}\n",
      "The lenght of set_1 is 58, NOT the same as sample_list_2 \n"
     ]
    }
   ],
   "source": [
    "# Your code here\n",
    "set2 = set(sample_list_2)\n",
    "len_sample_list_2 = len(sample_list_2)\n",
    "len_set2 = len(set2)\n",
    "print(set2)\n",
    "print(\"The lenght of set_1 is {}, NOT the same as sample_list_2 \".format(len_set2, len_sample_list_2))"
   ]
  },
  {
   "cell_type": "markdown",
   "metadata": {},
   "source": [
    "#### Identify the elements present in `set1` but not in `set2`. Assign the elements to a new set named `set3`."
   ]
  },
  {
   "cell_type": "code",
   "execution_count": 66,
   "metadata": {},
   "outputs": [
    {
     "name": "stdout",
     "output_type": "stream",
     "text": [
      "{0, 1, 2, 3, 4, 5, 6, 7, 8, 9, 10, 11, 12, 13, 14, 15, 16, 17, 18, 19, 20, 23, 24, 25, 26, 27, 28, 29, 31, 32, 33, 34, 35, 36, 40, 41, 42, 44, 46, 47, 49, 50, 51, 53, 55, 57, 59, 60, 61, 62, 63, 64, 65, 66, 67, 68, 69, 70, 72, 73, 74, 75, 76, 77, 78, 79, 81, 82, 83, 84, 86, 87, 88, 90, 91, 92, 96, 97, 99, 100}\n",
      "\n",
      "{4, 8, 10, 11, 12, 13, 15, 16, 17, 19, 20, 21, 22, 24, 25, 26, 27, 28, 30, 32, 33, 34, 38, 39, 41, 42, 44, 45, 47, 49, 50, 53, 55, 57, 58, 60, 61, 63, 64, 65, 66, 70, 71, 73, 74, 75, 78, 79, 82, 83, 84, 86, 87, 88, 94, 96, 97, 98}\n",
      "\n",
      "[0, 1, 2, 3, 5, 6, 7, 9, 14, 18, 23, 29, 31, 35, 36, 40, 46, 51, 59, 62, 67, 68, 69, 72, 76, 77, 81, 90, 91, 92, 99, 100]\n",
      "\n",
      "[0, 1, 2, 3, 5, 6, 7, 9, 14, 18, 23, 29, 31, 35, 36, 40, 46, 51, 59, 62, 67, 68, 69, 72, 76, 77, 81, 90, 91, 92, 99, 100]\n"
     ]
    }
   ],
   "source": [
    "# Your code here\n",
    "print(set1)\n",
    "print()\n",
    "print(set2)\n",
    "set3 = set1.difference(set2)\n",
    "# now sorted\n",
    "print()\n",
    "print(sorted(set3))\n",
    "\n",
    "set3_1 = []\n",
    "for i in set1: \n",
    "    if i not in set2: \n",
    "        set3_1.append(i) \n",
    "print()\n",
    "print(set3_1)"
   ]
  },
  {
   "cell_type": "markdown",
   "metadata": {},
   "source": [
    "#### Identify the elements present in `set2` but not in `set1`. Assign the elements to a new set named `set4`."
   ]
  },
  {
   "cell_type": "code",
   "execution_count": 70,
   "metadata": {},
   "outputs": [
    {
     "name": "stdout",
     "output_type": "stream",
     "text": [
      "{98, 38, 39, 71, 45, 21, 22, 94, 58, 30}\n",
      "\n",
      "[21, 22, 30, 38, 39, 45, 58, 71, 94, 98]\n"
     ]
    }
   ],
   "source": [
    "# Your code here\n",
    "set4 = set2.difference(set1)\n",
    "print(set4)\n",
    "\n",
    "set4_1 = []\n",
    "for i in set2:\n",
    "    if i not in set1: \n",
    "        set4_1.append(i) \n",
    "print()\n",
    "print(set4_1)\n",
    "\n",
    "# not suere why it does not show same result, and above it does. "
   ]
  },
  {
   "cell_type": "markdown",
   "metadata": {},
   "source": [
    "#### Now Identify the elements shared between `set1` and `set2`. Assign the elements to a new set named `set5`."
   ]
  },
  {
   "cell_type": "code",
   "execution_count": 73,
   "metadata": {},
   "outputs": [
    {
     "name": "stdout",
     "output_type": "stream",
     "text": [
      "{4, 8, 10, 11, 12, 13, 15, 16, 17, 19, 20, 24, 25, 26, 27, 28, 32, 33, 34, 41, 42, 44, 47, 49, 50, 53, 55, 57, 60, 61, 63, 64, 65, 66, 70, 73, 74, 75, 78, 79, 82, 83, 84, 86, 87, 88, 96, 97}\n",
      "[4, 8, 10, 11, 12, 13, 15, 16, 17, 19, 20, 24, 25, 26, 27, 28, 32, 33, 34, 41, 42, 44, 47, 49, 50, 53, 55, 57, 60, 61, 63, 64, 65, 66, 70, 73, 74, 75, 78, 79, 82, 83, 84, 86, 87, 88, 96, 97]\n"
     ]
    }
   ],
   "source": [
    "# Your code here\n",
    "set5 = set1.intersection(set2)\n",
    "print(set5)\n",
    "\n",
    "set5_1 = []\n",
    "for i in set1: \n",
    "    if i in set2: \n",
    "        set5_1.append(i)\n",
    "\n",
    "print(set5_1)\n",
    "\n",
    "# this time works! "
   ]
  },
  {
   "cell_type": "markdown",
   "metadata": {},
   "source": [
    "#### What is the relationship among the following values:\n",
    "\n",
    "* len(set1)\n",
    "* len(set2)\n",
    "* len(set3)\n",
    "* len(set4)\n",
    "* len(set5)\n",
    "\n",
    "Use a math formular to represent that relationship. Test your formular with Python code."
   ]
  },
  {
   "cell_type": "code",
   "execution_count": 80,
   "metadata": {},
   "outputs": [
    {
     "name": "stdout",
     "output_type": "stream",
     "text": [
      "False\n",
      "True\n",
      "False\n"
     ]
    }
   ],
   "source": [
    "# Your code here\n",
    "a = len(set1)\n",
    "b = len(set2)\n",
    "c = len(set3)\n",
    "d = len(set4)\n",
    "e = len(set5)\n",
    "\n",
    "print(a == b)\n",
    "print(a>c)\n",
    "print (c+d > e)"
   ]
  },
  {
   "cell_type": "markdown",
   "metadata": {},
   "source": [
    "#### Create an empty set called `set6`."
   ]
  },
  {
   "cell_type": "code",
   "execution_count": 84,
   "metadata": {},
   "outputs": [
    {
     "name": "stdout",
     "output_type": "stream",
     "text": [
      "set()\n",
      "set()\n"
     ]
    }
   ],
   "source": [
    "# Your code here\n",
    "set6_1 = set()\n",
    "set6 = set([])\n",
    "print(set6)\n",
    "print(set6_1)\n",
    "\n",
    "# difference? "
   ]
  },
  {
   "cell_type": "markdown",
   "metadata": {},
   "source": [
    "#### Add `set3` and `set5` to `set6` using the Python Set `update` method."
   ]
  },
  {
   "cell_type": "code",
   "execution_count": 91,
   "metadata": {},
   "outputs": [
    {
     "name": "stdout",
     "output_type": "stream",
     "text": [
      "{0, 1, 2, 3, 4, 5, 6, 7, 8, 9, 10, 11, 12, 13, 14, 15, 16, 17, 18, 19, 20, 23, 24, 25, 26, 27, 28, 29, 31, 32, 33, 34, 35, 36, 40, 41, 42, 44, 46, 47, 49, 50, 51, 53, 55, 57, 59, 60, 61, 62, 63, 64, 65, 66, 67, 68, 69, 70, 72, 73, 74, 75, 76, 77, 78, 79, 81, 82, 83, 84, 86, 87, 88, 90, 91, 92, 96, 97, 99, 100}\n"
     ]
    },
    {
     "data": {
      "text/plain": [
       "'\\nb1 = set6.update(set3)\\nprint(b) \\nprint()\\n\\nb = set6.update(set5)\\nprint(b)\\n'"
      ]
     },
     "execution_count": 91,
     "metadata": {},
     "output_type": "execute_result"
    }
   ],
   "source": [
    "# Your code here\n",
    "a = set6.update(set3,set5)\n",
    "print(set6)\n",
    "\n",
    "# I an add both same time\n",
    "'''\n",
    "b1 = set6.update(set3)\n",
    "print(b) \n",
    "print()\n",
    "\n",
    "b = set6.update(set5)\n",
    "print(b)\n",
    "'''"
   ]
  },
  {
   "cell_type": "markdown",
   "metadata": {},
   "source": [
    "#### Check if `set1` and `set6` are equal."
   ]
  },
  {
   "cell_type": "code",
   "execution_count": 92,
   "metadata": {},
   "outputs": [
    {
     "data": {
      "text/plain": [
       "True"
      ]
     },
     "execution_count": 92,
     "metadata": {},
     "output_type": "execute_result"
    }
   ],
   "source": [
    "# Your code here\n",
    "set1 == set6"
   ]
  },
  {
   "cell_type": "markdown",
   "metadata": {},
   "source": [
    "#### Check if `set1` contains `set2` using the Python Set `issubset` method. Then check if `set1` contains `set3`.*"
   ]
  },
  {
   "cell_type": "code",
   "execution_count": 95,
   "metadata": {},
   "outputs": [
    {
     "name": "stdout",
     "output_type": "stream",
     "text": [
      "False False\n"
     ]
    }
   ],
   "source": [
    "# Your code here\n",
    "a = set1.issubset(set2)\n",
    "b = set1.issubset(set3)\n",
    "\n",
    "print(a,b)\n",
    "# Nope!"
   ]
  },
  {
   "cell_type": "markdown",
   "metadata": {},
   "source": [
    "#### Using the Python Set `union` method, aggregate `set3`, `set4`, and `set5`. Then aggregate `set1` and `set2`. \n",
    "\n",
    "#### Check if the aggregated values are equal."
   ]
  },
  {
   "cell_type": "code",
   "execution_count": 100,
   "metadata": {},
   "outputs": [
    {
     "name": "stdout",
     "output_type": "stream",
     "text": [
      "True\n",
      "{0, 1, 2, 3, 4, 5, 6, 7, 8, 9, 10, 11, 12, 13, 14, 15, 16, 17, 18, 19, 20, 21, 22, 23, 24, 25, 26, 27, 28, 29, 30, 31, 32, 33, 34, 35, 36, 38, 39, 40, 41, 42, 44, 45, 46, 47, 49, 50, 51, 53, 55, 57, 58, 59, 60, 61, 62, 63, 64, 65, 66, 67, 68, 69, 70, 71, 72, 73, 74, 75, 76, 77, 78, 79, 81, 82, 83, 84, 86, 87, 88, 90, 91, 92, 94, 96, 97, 98, 99, 100}\n"
     ]
    }
   ],
   "source": [
    "# Your code here\n",
    "union1 = set3.union(set4.union(set5))\n",
    "union2 = set1.union(set2)\n",
    "print(union1 == union2)\n",
    "print(union1)"
   ]
  },
  {
   "cell_type": "markdown",
   "metadata": {},
   "source": [
    "#### Using the `pop` method, remove the first element from `set1`."
   ]
  },
  {
   "cell_type": "code",
   "execution_count": 108,
   "metadata": {},
   "outputs": [
    {
     "name": "stdout",
     "output_type": "stream",
     "text": [
      "{5, 6, 7, 8, 9, 10, 11, 12, 13, 14, 15, 16, 17, 18, 19, 20, 23, 24, 25, 26, 27, 28, 29, 31, 32, 33, 34, 35, 36, 40, 41, 42, 44, 46, 47, 49, 50, 51, 53, 55, 57, 59, 60, 61, 62, 63, 64, 65, 66, 67, 68, 69, 70, 72, 73, 74, 75, 76, 77, 78, 79, 81, 82, 83, 84, 86, 87, 88, 90, 91, 92, 96, 97, 99, 100}\n",
      "5\n",
      "{6, 7, 8, 9, 10, 11, 12, 13, 14, 15, 16, 17, 18, 19, 20, 23, 24, 25, 26, 27, 28, 29, 31, 32, 33, 34, 35, 36, 40, 41, 42, 44, 46, 47, 49, 50, 51, 53, 55, 57, 59, 60, 61, 62, 63, 64, 65, 66, 67, 68, 69, 70, 72, 73, 74, 75, 76, 77, 78, 79, 81, 82, 83, 84, 86, 87, 88, 90, 91, 92, 96, 97, 99, 100}\n"
     ]
    }
   ],
   "source": [
    "# Your code here\n",
    "print(set1)\n",
    "newset1 = set1.pop()\n",
    "print(newset1)\n",
    "print(set1)"
   ]
  },
  {
   "cell_type": "markdown",
   "metadata": {},
   "source": [
    "#### Remove every element in the following list from `set1` if they are present in the set. Print the remaining elements.\n",
    "\n",
    "```\n",
    "list_to_remove = [1, 9, 11, 19, 21, 29, 31, 39, 41, 49, 51, 59, 61, 69, 71, 79, 81, 89, 91, 99]\n",
    "```"
   ]
  },
  {
   "cell_type": "code",
   "execution_count": 116,
   "metadata": {},
   "outputs": [
    {
     "name": "stdout",
     "output_type": "stream",
     "text": [
      "{6, 7, 8, 9, 10, 11, 12, 13, 14, 15, 16, 17, 18, 19, 20, 23, 24, 25, 26, 27, 28, 29, 31, 32, 33, 34, 35, 36, 40, 41, 42, 44, 46, 47, 49, 50, 51, 53, 55, 57, 59, 60, 61, 62, 63, 64, 65, 66, 67, 68, 69, 70, 72, 73, 74, 75, 76, 77, 78, 79, 81, 82, 83, 84, 86, 87, 88, 90, 91, 92, 96, 97, 99, 100}\n",
      "\n",
      "[1, 9, 11, 19, 21, 29, 31, 39, 41, 49, 51, 59, 61, 69, 71, 79, 81, 89, 91, 99]\n",
      "\n",
      "{6, 7, 8, 10, 12, 13, 14, 15, 16, 17, 18, 20, 23, 24, 25, 26, 27, 28, 32, 33, 34, 35, 36, 40, 42, 44, 46, 47, 50, 53, 55, 57, 60, 62, 63, 64, 65, 66, 67, 68, 70, 72, 73, 74, 75, 76, 77, 78, 82, 83, 84, 86, 87, 88, 90, 92, 96, 97, 100}\n"
     ]
    }
   ],
   "source": [
    "# Your code here\n",
    "list_to_remove = [1, 9, 11, 19, 21, 29, 31, 39, 41, 49, 51, 59, 61, 69, 71, 79, 81, 89, 91, 99]\n",
    "print(set1)\n",
    "print()\n",
    "print(list_to_remove)\n",
    "rem_set1 = set1.difference(list_to_remove)\n",
    "print()\n",
    "\n",
    "print(rem_set1)"
   ]
  },
  {
   "cell_type": "code",
   "execution_count": 113,
   "metadata": {},
   "outputs": [
    {
     "name": "stdout",
     "output_type": "stream",
     "text": [
      "set()\n"
     ]
    }
   ],
   "source": [
    "print(rem_set1.difference(set1))"
   ]
  },
  {
   "cell_type": "code",
   "execution_count": null,
   "metadata": {},
   "outputs": [],
   "source": []
  }
 ],
 "metadata": {
  "kernelspec": {
   "display_name": "Python 3",
   "language": "python",
   "name": "python3"
  },
  "language_info": {
   "codemirror_mode": {
    "name": "ipython",
    "version": 3
   },
   "file_extension": ".py",
   "mimetype": "text/x-python",
   "name": "python",
   "nbconvert_exporter": "python",
   "pygments_lexer": "ipython3",
   "version": "3.8.2"
  }
 },
 "nbformat": 4,
 "nbformat_minor": 4
}
